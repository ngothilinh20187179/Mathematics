{
 "cells": [
  {
   "cell_type": "markdown",
   "metadata": {},
   "source": [
    "Z-test\n",
    "- One-sample Z-test, Two-sample Z-test, Proportion Z-test\n"
   ]
  },
  {
   "cell_type": "code",
   "execution_count": null,
   "metadata": {},
   "outputs": [],
   "source": []
  }
 ],
 "metadata": {
  "language_info": {
   "name": "python"
  }
 },
 "nbformat": 4,
 "nbformat_minor": 2
}
