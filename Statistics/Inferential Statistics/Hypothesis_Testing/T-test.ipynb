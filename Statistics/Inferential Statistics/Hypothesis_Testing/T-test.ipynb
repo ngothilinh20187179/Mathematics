{
 "cells": [
  {
   "cell_type": "markdown",
   "metadata": {},
   "source": [
    "T-test\n",
    "- One-sample t-test, Independent t-test, Paired t-test\n"
   ]
  },
  {
   "cell_type": "code",
   "execution_count": 1,
   "metadata": {},
   "outputs": [
    {
     "name": "stdout",
     "output_type": "stream",
     "text": [
      "Trung bình mẫu: 70.87\n",
      "T-statistic: 1.3725\n",
      "P-value: 0.1915\n",
      "✅ Không bác bỏ H0: Không có bằng chứng trung bình khác 70\n",
      "t = 1.3725\n",
      "p-value = 0.1915\n"
     ]
    }
   ],
   "source": [
    "# One-sample t-test\n",
    "# DÙNG HÀM\n",
    "import numpy as np\n",
    "from scipy import stats\n",
    "\n",
    "# Dữ liệu điểm của 15 học sinh\n",
    "scores = [74, 68, 72, 70, 69, 73, 71, 75, 67, 70, 68, 72, 74, 69, 71]\n",
    "sample_mean = np.mean(scores)\n",
    "n = len(scores)\n",
    "\n",
    "t_stat, p_value = stats.ttest_1samp(scores, popmean=70)\n",
    "\n",
    "print(f\"Trung bình mẫu: {sample_mean:.2f}\")\n",
    "print(f\"T-statistic: {t_stat:.4f}\")\n",
    "print(f\"P-value: {p_value:.4f}\")\n",
    "\n",
    "alpha = 0.05\n",
    "if p_value < alpha:\n",
    "    print(\"❌ Bác bỏ H0: Có bằng chứng cho thấy trung bình khác 70\")\n",
    "else:\n",
    "    print(\"✅ Không bác bỏ H0: Không có bằng chứng trung bình khác 70\")\n",
    "    \n",
    "\n",
    "# DÙNG CÔNG THỨC\n",
    "from scipy.stats import t\n",
    "\n",
    "x = np.array([74, 68, 72, 70, 69, 73, 71, 75, 67, 70, 68, 72, 74, 69, 71])\n",
    "mu_0 = 70\n",
    "n = len(x)\n",
    "sample_mean = np.mean(x)\n",
    "sample_std = np.std(x, ddof=1)\n",
    "\n",
    "t_stat = (sample_mean - mu_0) / (sample_std / np.sqrt(n))\n",
    "df = n - 1\n",
    "\n",
    "# P-value (two-tailed)\n",
    "p_value = 2 * (1 - t.cdf(abs(t_stat), df))\n",
    "\n",
    "print(f\"t = {t_stat:.4f}\")\n",
    "print(f\"p-value = {p_value:.4f}\")"
   ]
  }
 ],
 "metadata": {
  "kernelspec": {
   "display_name": "base",
   "language": "python",
   "name": "python3"
  },
  "language_info": {
   "codemirror_mode": {
    "name": "ipython",
    "version": 3
   },
   "file_extension": ".py",
   "mimetype": "text/x-python",
   "name": "python",
   "nbconvert_exporter": "python",
   "pygments_lexer": "ipython3",
   "version": "3.12.2"
  }
 },
 "nbformat": 4,
 "nbformat_minor": 2
}
