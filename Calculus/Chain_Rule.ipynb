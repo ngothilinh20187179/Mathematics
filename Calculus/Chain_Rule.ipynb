{
 "cells": [
  {
   "cell_type": "code",
   "execution_count": 5,
   "metadata": {},
   "outputs": [
    {
     "name": "stdout",
     "output_type": "stream",
     "text": [
      "Đạo hàm theo Chain Rule:\n",
      "    3       \n",
      "36⋅x  + 24⋅x\n"
     ]
    }
   ],
   "source": [
    "import sympy as sp\n",
    "\n",
    "x = sp.Symbol('x')\n",
    "u = sp.Symbol('u')  \n",
    "\n",
    "u_expr = 3 * x**2 + 2     # u = 3x² + 2\n",
    "f_u = u**2                # f(u) = u²\n",
    "\n",
    "# Chain Rule: df/dx = df/du * du/dx\n",
    "df_du = sp.diff(f_u, u)         # 2u\n",
    "du_dx = sp.diff(u_expr, x)      # u_expr = 6x\n",
    "df_dx = sp.simplify(df_du.subs(u, u_expr) * du_dx) # 2u * 6x = 2 * (3x² + 2) * 6x = 36x^3 + 24x\n",
    "\n",
    "print(\"Đạo hàm theo Chain Rule:\")\n",
    "sp.pprint(df_dx)\n"
   ]
  }
 ],
 "metadata": {
  "kernelspec": {
   "display_name": "base",
   "language": "python",
   "name": "python3"
  },
  "language_info": {
   "codemirror_mode": {
    "name": "ipython",
    "version": 3
   },
   "file_extension": ".py",
   "mimetype": "text/x-python",
   "name": "python",
   "nbconvert_exporter": "python",
   "pygments_lexer": "ipython3",
   "version": "3.12.2"
  }
 },
 "nbformat": 4,
 "nbformat_minor": 2
}
