{
 "cells": [
  {
   "cell_type": "markdown",
   "metadata": {},
   "source": [
    "Box: 3 red balls ; 2 blue balls. \n",
    "Calculate the probability of each type, draw 1000 times."
   ]
  },
  {
   "cell_type": "code",
   "execution_count": 9,
   "metadata": {},
   "outputs": [
    {
     "name": "stdout",
     "output_type": "stream",
     "text": [
      "Probability of Red ball: 0.51\n",
      "Probability of Blue ball: 0.49\n"
     ]
    }
   ],
   "source": [
    "import random\n",
    "\n",
    "def draw_ball(n_draws = 1000):\n",
    "    box = [\"Red\", \"Red\", \"Red\", \"Blue\", \"Blue\", \"Blue\"]\n",
    "    results = {\n",
    "        \"Red\": 0,\n",
    "        \"Blue\": 0\n",
    "    }\n",
    "    for _ in range(n_draws): \n",
    "        color = random.choice(box)\n",
    "        results[color] += 1\n",
    "    \n",
    "    for color in results:\n",
    "        prob = results[color] / n_draws\n",
    "        print(f\"Probability of {color} ball: {prob:.2f}\")\n",
    "        \n",
    "draw_ball()"
   ]
  },
  {
   "cell_type": "markdown",
   "metadata": {},
   "source": [
    "Addition rule\n",
    "\n",
    "Probability of student who plays football or basketball ?\n",
    "- 50 students\n",
    "- 30 play football\n",
    "- 20 play basketball\n",
    "- 10 play football and basketball"
   ]
  },
  {
   "cell_type": "code",
   "execution_count": 12,
   "metadata": {},
   "outputs": [
    {
     "name": "stdout",
     "output_type": "stream",
     "text": [
      "P_football_or_basketball 0.8\n"
     ]
    }
   ],
   "source": [
    "def addition_rule():\n",
    "    total_student = 50\n",
    "    n_football = 30\n",
    "    n_basketball = 20\n",
    "    n_both = 10\n",
    "    \n",
    "    P_football = n_football / total_student\n",
    "    P_basketball = n_basketball / total_student\n",
    "    P_both = n_both / total_student\n",
    "    P_football_or_basketball = P_football + P_basketball - P_both\n",
    "    \n",
    "    print(\"P_football_or_basketball\", P_football_or_basketball)\n",
    "addition_rule()"
   ]
  },
  {
   "cell_type": "markdown",
   "metadata": {},
   "source": [
    "Multiplication Rule\n",
    "\n",
    "52 cards:\n",
    "\n",
    "Probability of drawing an Ace, and then continuing to draw another Ace (non-refundable)?"
   ]
  },
  {
   "cell_type": "code",
   "execution_count": 13,
   "metadata": {},
   "outputs": [
    {
     "name": "stdout",
     "output_type": "stream",
     "text": [
      "0.004524886877828055\n"
     ]
    }
   ],
   "source": [
    "def multiplication_rule_dependent():\n",
    "    P_first_ace = 4 / 52\n",
    "    P_second_ace_given_first = 3 / 51\n",
    "\n",
    "    P_two_aces = P_first_ace * P_second_ace_given_first\n",
    "\n",
    "    print(P_two_aces)\n",
    "\n",
    "multiplication_rule_dependent()\n"
   ]
  },
  {
   "cell_type": "markdown",
   "metadata": {},
   "source": [
    "Conditional probability\n",
    "\n",
    "If you know that a student is a girl, what is the probability that the student will do well?"
   ]
  },
  {
   "cell_type": "code",
   "execution_count": 10,
   "metadata": {},
   "outputs": [
    {
     "name": "stdout",
     "output_type": "stream",
     "text": [
      "Probability of female student who is good at school: 0.50\n"
     ]
    }
   ],
   "source": [
    "def conditional_probability_example():\n",
    "    total_students = 100\n",
    "    good_students = 40\n",
    "    female_students = 50\n",
    "    good_and_female = 25 \n",
    "\n",
    "    P_good_and_female = good_and_female / total_students\n",
    "    P_female = female_students / total_students\n",
    "\n",
    "    P_good_given_female = P_good_and_female / P_female\n",
    "\n",
    "    print(f\"Probability of female student who is good at school: {P_good_given_female:.2f}\")\n",
    "\n",
    "conditional_probability_example()"
   ]
  },
  {
   "cell_type": "markdown",
   "metadata": {},
   "source": [
    "Bayes’ Theorem\n",
    "\n",
    "If 1 person receives a positive result, what is the real probability that he / she is sick?\n",
    "- 1% of the population is sick\n",
    "- the test is correct 99% (disease)\n",
    "- false positive 5% (no-disease)"
   ]
  },
  {
   "cell_type": "code",
   "execution_count": 11,
   "metadata": {},
   "outputs": [
    {
     "name": "stdout",
     "output_type": "stream",
     "text": [
      "probability of real disease 0.16666666666666669\n"
     ]
    }
   ],
   "source": [
    "def bayes_theorem():\n",
    "    p_disease = 0.01\n",
    "    p_no_disease = 1 - p_disease\n",
    "    p_positive_disease = 0.99\n",
    "    p_positive_no_disease = 0.05\n",
    "    \n",
    "    # Tính xác suất có kết quả dương tính\n",
    "    p_positive = (p_disease * p_positive_disease + p_no_disease * p_positive_no_disease)\n",
    "    p_real_disease = (p_disease * p_positive_disease) / p_positive\n",
    "    print(\"probability of real disease\", p_real_disease)\n",
    "bayes_theorem()"
   ]
  },
  {
   "cell_type": "markdown",
   "metadata": {},
   "source": [
    "Expected Value\n",
    "\n",
    "Variance\n",
    "\n",
    "Standard Deviation"
   ]
  },
  {
   "cell_type": "code",
   "execution_count": 15,
   "metadata": {},
   "outputs": [
    {
     "name": "stdout",
     "output_type": "stream",
     "text": [
      "expected value 3.5\n",
      "variance 2.916666666666666\n",
      "Standard Deviation 1.707825127659933\n"
     ]
    }
   ],
   "source": [
    "import numpy as np\n",
    "\n",
    "# 6-sided dice\n",
    "def variance_dice():\n",
    "    results = [1,2,3,4,5,6]\n",
    "    probs = [1/6] * 6 # [1/6, 1/6, 1/6, 1/6, 1/6, 1/6]\n",
    "    \n",
    "    # E[X]\n",
    "    expected_value = sum(x * p for x, p in zip(results, probs))\n",
    "    \n",
    "    # E[X^2]\n",
    "    expected_square = sum((x**2) * p for x, p in zip(results, probs))\n",
    "    \n",
    "    # Var(X) = E[X^2] - (E[X])^2\n",
    "    variance = expected_square - expected_value**2\n",
    "    \n",
    "    # Standard Deviation\n",
    "    sd = np.sqrt(variance)\n",
    "    \n",
    "    print(\"expected value\", expected_value)\n",
    "    print(\"variance\", variance)\n",
    "    print(\"Standard Deviation\", sd)\n",
    "variance_dice()"
   ]
  }
 ],
 "metadata": {
  "kernelspec": {
   "display_name": "base",
   "language": "python",
   "name": "python3"
  },
  "language_info": {
   "codemirror_mode": {
    "name": "ipython",
    "version": 3
   },
   "file_extension": ".py",
   "mimetype": "text/x-python",
   "name": "python",
   "nbconvert_exporter": "python",
   "pygments_lexer": "ipython3",
   "version": "3.12.2"
  }
 },
 "nbformat": 4,
 "nbformat_minor": 2
}
