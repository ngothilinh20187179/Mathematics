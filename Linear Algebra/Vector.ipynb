{
 "cells": [
  {
   "cell_type": "code",
   "execution_count": 1,
   "metadata": {},
   "outputs": [
    {
     "name": "stdout",
     "output_type": "stream",
     "text": [
      "Vector a: [1 2 3]\n",
      "Vector b: [4 5 6]\n",
      "a + b = [5 7 9]\n",
      "a - b = [-3 -3 -3]\n",
      "3 * a = [3 6 9]\n",
      "a · b = 32\n",
      "a × b = [-3  6 -3]\n",
      "||a|| = 3.7416573867739413\n",
      "Unit vector of a: [0.26726124 0.53452248 0.80178373]\n",
      "Row vector: [[1 2 3]]\n",
      "Shape: (1, 3)\n",
      "Column vector (transpose):\n",
      " [[1]\n",
      " [2]\n",
      " [3]]\n",
      "Shape: (3, 1)\n"
     ]
    }
   ],
   "source": [
    "import numpy as np\n",
    "\n",
    "a = np.array([1, 2, 3])\n",
    "b = np.array([4, 5, 6])\n",
    "\n",
    "print(\"Vector a:\", a)\n",
    "print(\"Vector b:\", b)\n",
    "\n",
    "# 1. Vector Addition \n",
    "add = a + b\n",
    "print(\"a + b =\", add)\n",
    "\n",
    "# 2. Vector Subtraction \n",
    "sub = a - b\n",
    "print(\"a - b =\", sub)\n",
    "\n",
    "# 3. Scalar Multiplication \n",
    "scalar_mul = 3 * a\n",
    "print(\"3 * a =\", scalar_mul)\n",
    "\n",
    "# 4. Dot Product \n",
    "dot = np.dot(a, b)\n",
    "print(\"a · b =\", dot)\n",
    "\n",
    "# 5. Cross Product \n",
    "cross = np.cross(a, b)\n",
    "print(\"a × b =\", cross)\n",
    "\n",
    "# 6. Vector Norm \n",
    "norm_a = np.linalg.norm(a)\n",
    "print(\"||a|| =\", norm_a)\n",
    "\n",
    "# 7. Unit Vector\n",
    "unit_a = a / norm_a\n",
    "print(\"Unit vector of a:\", unit_a)\n",
    "\n",
    "# 8. Transpose\n",
    "row_vector = np.array([[1, 2, 3]])  # 1×3\n",
    "print(\"Row vector:\", row_vector)\n",
    "print(\"Shape:\", row_vector.shape) \n",
    "\n",
    "col_vector = row_vector.T          # 3×1\n",
    "print(\"Column vector (transpose):\\n\", col_vector)\n",
    "print(\"Shape:\", col_vector.shape) \n"
   ]
  },
  {
   "cell_type": "code",
   "execution_count": null,
   "metadata": {},
   "outputs": [],
   "source": []
  }
 ],
 "metadata": {
  "kernelspec": {
   "display_name": "base",
   "language": "python",
   "name": "python3"
  },
  "language_info": {
   "codemirror_mode": {
    "name": "ipython",
    "version": 3
   },
   "file_extension": ".py",
   "mimetype": "text/x-python",
   "name": "python",
   "nbconvert_exporter": "python",
   "pygments_lexer": "ipython3",
   "version": "3.12.2"
  }
 },
 "nbformat": 4,
 "nbformat_minor": 2
}
