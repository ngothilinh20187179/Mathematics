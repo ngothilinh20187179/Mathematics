{
 "cells": [
  {
   "cell_type": "code",
   "execution_count": 2,
   "metadata": {},
   "outputs": [
    {
     "name": "stdout",
     "output_type": "stream",
     "text": [
      "[[1 2 3]\n",
      " [4 5 6]]\n",
      "Shape: (2, 3)\n",
      "Element row 2, col 3: 6\n"
     ]
    }
   ],
   "source": [
    "import numpy as np\n",
    "\n",
    "# Matrix 2x3\n",
    "A = np.array([[1, 2, 3],\n",
    "              [4, 5, 6]])\n",
    "\n",
    "print(A)\n",
    "print(\"Shape:\", A.shape)\n",
    "print(\"Element row 2, col 3:\", A[1][2])  # = 6\n"
   ]
  },
  {
   "cell_type": "code",
   "execution_count": 3,
   "metadata": {},
   "outputs": [
    {
     "name": "stdout",
     "output_type": "stream",
     "text": [
      "A:\n",
      " [[1 2 3]\n",
      " [4 5 6]]\n",
      "A Transpose:\n",
      " [[1 4]\n",
      " [2 5]\n",
      " [3 6]]\n"
     ]
    }
   ],
   "source": [
    "# Transpose\n",
    "A_T = A.T\n",
    "print(\"A:\\n\", A)\n",
    "print(\"A Transpose:\\n\", A_T)"
   ]
  },
  {
   "cell_type": "code",
   "execution_count": 7,
   "metadata": {},
   "outputs": [
    {
     "name": "stdout",
     "output_type": "stream",
     "text": [
      "Det(A): -2.0\n"
     ]
    }
   ],
   "source": [
    "A = np.array([[4, 2], [3, 1]])\n",
    "det_A = np.linalg.det(A)\n",
    "print(\"Det(A):\", det_A) "
   ]
  },
  {
   "cell_type": "code",
   "execution_count": 4,
   "metadata": {},
   "outputs": [
    {
     "name": "stdout",
     "output_type": "stream",
     "text": [
      "A:\n",
      " [[4 7]\n",
      " [2 6]]\n",
      "A^-1:\n",
      " [[ 0.6 -0.7]\n",
      " [-0.2  0.4]]\n",
      "A * A^-1:\n",
      " [[1. 0.]\n",
      " [0. 1.]]\n"
     ]
    }
   ],
   "source": [
    "# Inverse\n",
    "A = np.array([[4, 7],\n",
    "              [2, 6]])\n",
    "\n",
    "A_inv = np.linalg.inv(A)\n",
    "\n",
    "print(\"A:\\n\", A)\n",
    "print(\"A^-1:\\n\", A_inv)\n",
    "print(\"A * A^-1:\\n\", np.dot(A, A_inv))  # ≈ identity\n"
   ]
  },
  {
   "cell_type": "code",
   "execution_count": 5,
   "metadata": {},
   "outputs": [
    {
     "name": "stdout",
     "output_type": "stream",
     "text": [
      "B + C =\n",
      " [[ 6  8]\n",
      " [10 12]]\n",
      "B - C =\n",
      " [[-4 -4]\n",
      " [-4 -4]]\n",
      "B x C =\n",
      " [[19 22]\n",
      " [43 50]]\n"
     ]
    }
   ],
   "source": [
    "# Add, Sub, Mul\n",
    "B = np.array([[1, 2],\n",
    "              [3, 4]])\n",
    "\n",
    "C = np.array([[5, 6],\n",
    "              [7, 8]])\n",
    "\n",
    "print(\"B + C =\\n\", B + C)\n",
    "print(\"B - C =\\n\", B - C)\n",
    "D = np.dot(B, C) \n",
    "print(\"B x C =\\n\", D)\n"
   ]
  },
  {
   "cell_type": "code",
   "execution_count": 6,
   "metadata": {},
   "outputs": [
    {
     "name": "stdout",
     "output_type": "stream",
     "text": [
      "Hadamard product:\n",
      " [[ 5 12]\n",
      " [21 32]]\n"
     ]
    }
   ],
   "source": [
    "# Hadamard Mul\n",
    "A = np.array([[1, 2], [3, 4]])\n",
    "B = np.array([[5, 6], [7, 8]])\n",
    "\n",
    "hadamard = A * B \n",
    "print(\"Hadamard product:\\n\", hadamard)"
   ]
  },
  {
   "cell_type": "code",
   "execution_count": null,
   "metadata": {},
   "outputs": [],
   "source": []
  }
 ],
 "metadata": {
  "kernelspec": {
   "display_name": "base",
   "language": "python",
   "name": "python3"
  },
  "language_info": {
   "codemirror_mode": {
    "name": "ipython",
    "version": 3
   },
   "file_extension": ".py",
   "mimetype": "text/x-python",
   "name": "python",
   "nbconvert_exporter": "python",
   "pygments_lexer": "ipython3",
   "version": "3.12.2"
  }
 },
 "nbformat": 4,
 "nbformat_minor": 2
}
