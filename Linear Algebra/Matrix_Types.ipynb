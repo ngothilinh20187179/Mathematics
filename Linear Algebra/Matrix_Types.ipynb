{
 "cells": [
  {
   "cell_type": "code",
   "execution_count": 1,
   "metadata": {},
   "outputs": [],
   "source": [
    "import numpy as np\n",
    "\n",
    "# Row matrix\n",
    "row = np.array([[1, 2, 3]])\n",
    "\n",
    "# Column matrix\n",
    "col = np.array([[1], [2], [3]])\n",
    "\n",
    "# Square matrix\n",
    "square = np.array([[1, 2], [3, 4]])\n",
    "\n",
    "# Zero matrix\n",
    "zero = np.zeros((3, 3))\n",
    "\n",
    "# Identity matrix\n",
    "identity = np.eye(3)\n",
    "\n",
    "# Diagonal matrix\n",
    "diagonal = np.diag([10, 20, 30])\n",
    "\n",
    "# Upper triangular\n",
    "upper = np.triu([[1, 2, 3], [4, 5, 6], [7, 8, 9]])\n",
    "\n",
    "# Lower triangular\n",
    "lower = np.tril([[1, 2, 3], [4, 5, 6], [7, 8, 9]])\n",
    "\n",
    "# Symmetric matrix\n",
    "symmetric = np.array([[1, 2], [2, 1]])\n",
    "\n",
    "# Skew-symmetric\n",
    "skew = np.array([[0, -2], [2, 0]])\n"
   ]
  },
  {
   "cell_type": "code",
   "execution_count": 6,
   "metadata": {},
   "outputs": [
    {
     "name": "stdout",
     "output_type": "stream",
     "text": [
      "row matrix \n",
      " [[1 2 3]]\n",
      "\n",
      " col matrix \n",
      " [[1]\n",
      " [2]\n",
      " [3]]\n",
      "\n",
      " square matrix \n",
      " [[1 2]\n",
      " [3 4]]\n",
      "\n",
      " zero matrix \n",
      " [[0. 0. 0.]\n",
      " [0. 0. 0.]\n",
      " [0. 0. 0.]]\n"
     ]
    }
   ],
   "source": [
    "print(\"row matrix \\n\", row)\n",
    "print(\"\\n col matrix \\n\", col)\n",
    "print(\"\\n square matrix \\n\", square)\n",
    "print(\"\\n zero matrix \\n\", zero)\n"
   ]
  },
  {
   "cell_type": "code",
   "execution_count": 7,
   "metadata": {},
   "outputs": [
    {
     "name": "stdout",
     "output_type": "stream",
     "text": [
      "identity matrix \n",
      " [[1. 0. 0.]\n",
      " [0. 1. 0.]\n",
      " [0. 0. 1.]]\n",
      "\n",
      " diagonal matrix \n",
      " [[10  0  0]\n",
      " [ 0 20  0]\n",
      " [ 0  0 30]]\n",
      "\n",
      " upper matrix \n",
      " [[1 2 3]\n",
      " [0 5 6]\n",
      " [0 0 9]]\n",
      "\n",
      " lower matrix \n",
      " [[1 0 0]\n",
      " [4 5 0]\n",
      " [7 8 9]]\n"
     ]
    }
   ],
   "source": [
    "print(\"identity matrix \\n\", identity)\n",
    "print(\"\\n diagonal matrix \\n\", diagonal)\n",
    "print(\"\\n upper matrix \\n\", upper)\n",
    "print(\"\\n lower matrix \\n\", lower)"
   ]
  },
  {
   "cell_type": "code",
   "execution_count": 8,
   "metadata": {},
   "outputs": [
    {
     "name": "stdout",
     "output_type": "stream",
     "text": [
      "symmetric matrix \n",
      " [[1 2]\n",
      " [2 1]]\n",
      "\n",
      " skew matrix \n",
      " [[ 0 -2]\n",
      " [ 2  0]]\n"
     ]
    }
   ],
   "source": [
    "print(\"symmetric matrix \\n\", symmetric)\n",
    "print(\"\\n skew matrix \\n\", skew)"
   ]
  },
  {
   "cell_type": "code",
   "execution_count": 9,
   "metadata": {},
   "outputs": [
    {
     "name": "stdout",
     "output_type": "stream",
     "text": [
      "COO matrix:\n",
      " <COOrdinate sparse matrix of dtype 'int64'\n",
      "\twith 3 stored elements and shape (3, 3)>\n",
      "  Coords\tValues\n",
      "  (0, 2)\t5\n",
      "  (1, 1)\t8\n",
      "  (2, 2)\t3\n",
      "\n",
      "Chuyển về dense:\n",
      " [[0 0 5]\n",
      " [0 8 0]\n",
      " [0 0 3]]\n"
     ]
    }
   ],
   "source": [
    "# sparse matrix - COO\n",
    "from scipy.sparse import coo_matrix\n",
    "\n",
    "data = [5, 8, 3]\n",
    "rows = [0, 1, 2]\n",
    "cols = [2, 1, 2]\n",
    "\n",
    "coo = coo_matrix((data, (rows, cols)), shape=(3, 3))\n",
    "\n",
    "print(\"COO matrix:\\n\", coo)\n",
    "print(\"\\nChuyển về dense:\\n\", coo.toarray())"
   ]
  },
  {
   "cell_type": "code",
   "execution_count": 10,
   "metadata": {},
   "outputs": [
    {
     "name": "stdout",
     "output_type": "stream",
     "text": [
      "CSC matrix:\n",
      " <Compressed Sparse Column sparse matrix of dtype 'int64'\n",
      "\twith 4 stored elements and shape (3, 3)>\n",
      "  Coords\tValues\n",
      "  (1, 0)\t4\n",
      "  (2, 1)\t5\n",
      "  (0, 2)\t3\n",
      "  (2, 2)\t6\n",
      "\n",
      "Data: [4 5 3 6]\n",
      "Row indices: [1 2 0 2]\n",
      "Column pointers: [0 1 2 4]\n"
     ]
    }
   ],
   "source": [
    "# sparse matrix - CSC\n",
    "from scipy.sparse import csc_matrix\n",
    "\n",
    "dense = np.array([\n",
    "    [0, 0, 3],\n",
    "    [4, 0, 0],\n",
    "    [0, 5, 6]\n",
    "])\n",
    "\n",
    "csc = csc_matrix(dense)\n",
    "\n",
    "print(\"CSC matrix:\\n\", csc)\n",
    "print(\"\\nData:\", csc.data)\n",
    "print(\"Row indices:\", csc.indices)\n",
    "print(\"Column pointers:\", csc.indptr)"
   ]
  },
  {
   "cell_type": "code",
   "execution_count": 11,
   "metadata": {},
   "outputs": [
    {
     "name": "stdout",
     "output_type": "stream",
     "text": [
      "CSR matrix:\n",
      " <Compressed Sparse Row sparse matrix of dtype 'int64'\n",
      "\twith 4 stored elements and shape (3, 3)>\n",
      "  Coords\tValues\n",
      "  (0, 2)\t3\n",
      "  (1, 0)\t4\n",
      "  (2, 1)\t5\n",
      "  (2, 2)\t6\n",
      "\n",
      "Data: [3 4 5 6]\n",
      "Indices (cột): [2 0 1 2]\n",
      "Index Pointer (indptr): [0 1 2 4]\n"
     ]
    }
   ],
   "source": [
    "# sparse matrix - CSR\n",
    "from scipy.sparse import csr_matrix\n",
    "\n",
    "dense = np.array([\n",
    "    [0, 0, 3],\n",
    "    [4, 0, 0],\n",
    "    [0, 5, 6]\n",
    "])\n",
    "\n",
    "csr = csr_matrix(dense)\n",
    "print(\"CSR matrix:\\n\", csr)\n",
    "print(\"\\nData:\", csr.data)\n",
    "print(\"Indices (cột):\", csr.indices)\n",
    "print(\"Index Pointer (indptr):\", csr.indptr)"
   ]
  },
  {
   "cell_type": "code",
   "execution_count": null,
   "metadata": {},
   "outputs": [],
   "source": []
  }
 ],
 "metadata": {
  "kernelspec": {
   "display_name": "base",
   "language": "python",
   "name": "python3"
  },
  "language_info": {
   "codemirror_mode": {
    "name": "ipython",
    "version": 3
   },
   "file_extension": ".py",
   "mimetype": "text/x-python",
   "name": "python",
   "nbconvert_exporter": "python",
   "pygments_lexer": "ipython3",
   "version": "3.12.2"
  }
 },
 "nbformat": 4,
 "nbformat_minor": 2
}
